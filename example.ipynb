{
 "cells": [
  {
   "cell_type": "code",
   "execution_count": 1,
   "id": "827447de",
   "metadata": {},
   "outputs": [],
   "source": [
    "from pyiron_base import Project"
   ]
  },
  {
   "cell_type": "code",
   "execution_count": 2,
   "id": "3bd9344d",
   "metadata": {},
   "outputs": [],
   "source": [
    "from pyiron_dynamic import get_template_classes"
   ]
  },
  {
   "cell_type": "code",
   "execution_count": 3,
   "id": "46398390",
   "metadata": {},
   "outputs": [
    {
     "data": {
      "text/plain": [
       "{'MyscriptJob': abc.MyscriptJob}"
      ]
     },
     "execution_count": 3,
     "metadata": {},
     "output_type": "execute_result"
    }
   ],
   "source": [
    "template_class_dict = get_template_classes()\n",
    "template_class_dict"
   ]
  },
  {
   "cell_type": "code",
   "execution_count": 4,
   "id": "94d0c7b5",
   "metadata": {},
   "outputs": [
    {
     "data": {
      "application/vnd.jupyter.widget-view+json": {
       "model_id": "81bacd48bc93468b822d21702634fc0c",
       "version_major": 2,
       "version_minor": 0
      },
      "text/plain": [
       "  0%|          | 0/1 [00:00<?, ?it/s]"
      ]
     },
     "metadata": {},
     "output_type": "display_data"
    }
   ],
   "source": [
    "pr = Project(\"test\")\n",
    "pr.remove_jobs(recursive=True, silently=True)"
   ]
  },
  {
   "cell_type": "code",
   "execution_count": 5,
   "id": "8d26333b",
   "metadata": {},
   "outputs": [
    {
     "data": {
      "application/json": {
       "a": "1",
       "b": "[1, 2, 3]"
      },
      "text/html": [
       "<pre>DataContainer({\n",
       "  \"a\": \"1\",\n",
       "  \"b\": \"[1, 2, 3]\"\n",
       "})</pre>"
      ],
      "text/plain": [
       "DataContainer({'a': 1, 'b': [1, 2, 3]})"
      ]
     },
     "execution_count": 5,
     "metadata": {},
     "output_type": "execute_result"
    }
   ],
   "source": [
    "job = pr.create_job(template_class_dict[\"MyscriptJob\"], \"script\")\n",
    "job.input"
   ]
  },
  {
   "cell_type": "code",
   "execution_count": 6,
   "id": "d9602251",
   "metadata": {},
   "outputs": [
    {
     "name": "stdout",
     "output_type": "stream",
     "text": [
      "The job script was saved and received the ID: script\n"
     ]
    },
    {
     "data": {
      "application/vnd.jupyter.widget-view+json": {
       "model_id": "6762a920aa7c480f9f79117428cc103c",
       "version_major": 2,
       "version_minor": 0
      },
      "text/plain": [
       "  0%|          | 0/1 [00:00<?, ?it/s]"
      ]
     },
     "metadata": {},
     "output_type": "display_data"
    }
   ],
   "source": [
    "job.run()"
   ]
  },
  {
   "cell_type": "code",
   "execution_count": 7,
   "id": "94d477ab",
   "metadata": {},
   "outputs": [
    {
     "data": {
      "text/plain": [
       "{'a': 1,\n",
       " 'b': [1, 2, 3],\n",
       " 'project_dir': '/Users/jan/pyiron/projects/2022/2022-02-21-scriptjob/test'}"
      ]
     },
     "execution_count": 7,
     "metadata": {},
     "output_type": "execute_result"
    }
   ],
   "source": [
    "job[\"output\"].to_object().to_builtin()"
   ]
  }
 ],
 "metadata": {
  "kernelspec": {
   "display_name": "Python 3 (ipykernel)",
   "language": "python",
   "name": "python3"
  },
  "language_info": {
   "codemirror_mode": {
    "name": "ipython",
    "version": 3
   },
   "file_extension": ".py",
   "mimetype": "text/x-python",
   "name": "python",
   "nbconvert_exporter": "python",
   "pygments_lexer": "ipython3",
   "version": "3.10.2"
  }
 },
 "nbformat": 4,
 "nbformat_minor": 5
}
